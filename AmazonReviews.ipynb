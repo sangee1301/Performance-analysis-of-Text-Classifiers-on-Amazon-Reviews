{
 "cells": [
  {
   "cell_type": "code",
   "execution_count": 1,
   "metadata": {},
   "outputs": [],
   "source": [
    "#importing necessary libraries\n",
    "import pandas as pd\n",
    "import numpy as np\n",
    "from sklearn.model_selection import train_test_split\n",
    "from sklearn.pipeline import Pipeline\n",
    "import warnings\n",
    "warnings.filterwarnings(\"ignore\")\n",
    "\n",
    "#NLP libraries\n",
    "from sklearn.feature_extraction.text import CountVectorizer, TfidfVectorizer\n",
    "from sklearn.feature_extraction.text import TfidfTransformer\n",
    "\n",
    "\n",
    "#Classifiers\n",
    "from sklearn import model_selection, preprocessing, linear_model, naive_bayes, metrics, svm\n",
    "from sklearn.naive_bayes import MultinomialNB\n",
    "from sklearn.ensemble import RandomForestClassifier\n",
    "from xgboost import XGBClassifier\n",
    "from sklearn.metrics import roc_curve, auc\n",
    "\n",
    "import matplotlib.pyplot as plt\n",
    "%matplotlib inline"
   ]
  },
  {
   "cell_type": "markdown",
   "metadata": {},
   "source": [
    "Importing csv file to a dataframe"
   ]
  },
  {
   "cell_type": "code",
   "execution_count": 2,
   "metadata": {},
   "outputs": [],
   "source": [
    "reviews = pd.read_csv(\"amazon_reviews.csv\")"
   ]
  },
  {
   "cell_type": "code",
   "execution_count": 3,
   "metadata": {},
   "outputs": [
    {
     "data": {
      "text/html": [
       "<div>\n",
       "<style scoped>\n",
       "    .dataframe tbody tr th:only-of-type {\n",
       "        vertical-align: middle;\n",
       "    }\n",
       "\n",
       "    .dataframe tbody tr th {\n",
       "        vertical-align: top;\n",
       "    }\n",
       "\n",
       "    .dataframe thead th {\n",
       "        text-align: right;\n",
       "    }\n",
       "</style>\n",
       "<table border=\"1\" class=\"dataframe\">\n",
       "  <thead>\n",
       "    <tr style=\"text-align: right;\">\n",
       "      <th></th>\n",
       "      <th>Rating</th>\n",
       "      <th>Review</th>\n",
       "    </tr>\n",
       "  </thead>\n",
       "  <tbody>\n",
       "    <tr>\n",
       "      <th>0</th>\n",
       "      <td>2</td>\n",
       "      <td>Stuning even for the non-gamer: This sound tra...</td>\n",
       "    </tr>\n",
       "    <tr>\n",
       "      <th>1</th>\n",
       "      <td>2</td>\n",
       "      <td>The best soundtrack ever to anything.: I'm rea...</td>\n",
       "    </tr>\n",
       "    <tr>\n",
       "      <th>2</th>\n",
       "      <td>2</td>\n",
       "      <td>Amazing!: This soundtrack is my favorite music...</td>\n",
       "    </tr>\n",
       "    <tr>\n",
       "      <th>3</th>\n",
       "      <td>2</td>\n",
       "      <td>Excellent Soundtrack: I truly like this soundt...</td>\n",
       "    </tr>\n",
       "    <tr>\n",
       "      <th>4</th>\n",
       "      <td>2</td>\n",
       "      <td>Remember, Pull Your Jaw Off The Floor After He...</td>\n",
       "    </tr>\n",
       "    <tr>\n",
       "      <th>5</th>\n",
       "      <td>2</td>\n",
       "      <td>an absolute masterpiece: I am quite sure any o...</td>\n",
       "    </tr>\n",
       "  </tbody>\n",
       "</table>\n",
       "</div>"
      ],
      "text/plain": [
       "   Rating                                             Review\n",
       "0       2  Stuning even for the non-gamer: This sound tra...\n",
       "1       2  The best soundtrack ever to anything.: I'm rea...\n",
       "2       2  Amazing!: This soundtrack is my favorite music...\n",
       "3       2  Excellent Soundtrack: I truly like this soundt...\n",
       "4       2  Remember, Pull Your Jaw Off The Floor After He...\n",
       "5       2  an absolute masterpiece: I am quite sure any o..."
      ]
     },
     "execution_count": 3,
     "metadata": {},
     "output_type": "execute_result"
    }
   ],
   "source": [
    "reviews.head(6)"
   ]
  },
  {
   "cell_type": "markdown",
   "metadata": {},
   "source": [
    "Count of unique values in Rating"
   ]
  },
  {
   "cell_type": "code",
   "execution_count": 4,
   "metadata": {},
   "outputs": [
    {
     "data": {
      "text/plain": [
       "1    1778\n",
       "2    1431\n",
       "Name: Rating, dtype: int64"
      ]
     },
     "execution_count": 4,
     "metadata": {},
     "output_type": "execute_result"
    }
   ],
   "source": [
    "reviews['Rating'].value_counts()"
   ]
  },
  {
   "cell_type": "markdown",
   "metadata": {},
   "source": [
    "## Preprocessing Text"
   ]
  },
  {
   "cell_type": "markdown",
   "metadata": {},
   "source": [
    "Converting reviews to lowercase\n"
   ]
  },
  {
   "cell_type": "code",
   "execution_count": 5,
   "metadata": {},
   "outputs": [
    {
     "data": {
      "text/plain": [
       "0    stuning even for the non-gamer: this sound tra...\n",
       "1    the best soundtrack ever to anything.: i'm rea...\n",
       "2    amazing!: this soundtrack is my favorite music...\n",
       "3    excellent soundtrack: i truly like this soundt...\n",
       "4    remember, pull your jaw off the floor after he...\n",
       "Name: Review, dtype: object"
      ]
     },
     "execution_count": 5,
     "metadata": {},
     "output_type": "execute_result"
    }
   ],
   "source": [
    "reviews['Review'] = reviews['Review'].apply(lambda x: \" \".join(str(x).lower() for x in str(x).split()))\n",
    "reviews['Review'].head()"
   ]
  },
  {
   "cell_type": "markdown",
   "metadata": {},
   "source": [
    "Removing Punctuations"
   ]
  },
  {
   "cell_type": "code",
   "execution_count": 6,
   "metadata": {},
   "outputs": [
    {
     "data": {
      "text/plain": [
       "0    stuning even for the nongamer this sound track...\n",
       "1    the best soundtrack ever to anything im readin...\n",
       "2    amazing this soundtrack is my favorite music o...\n",
       "3    excellent soundtrack i truly like this soundtr...\n",
       "4    remember pull your jaw off the floor after hea...\n",
       "Name: Review, dtype: object"
      ]
     },
     "execution_count": 6,
     "metadata": {},
     "output_type": "execute_result"
    }
   ],
   "source": [
    "reviews['Review'] = reviews['Review'].str.replace('[^\\w\\s]','')\n",
    "reviews['Review'].head()"
   ]
  },
  {
   "cell_type": "markdown",
   "metadata": {},
   "source": [
    "Removing stopwords"
   ]
  },
  {
   "cell_type": "code",
   "execution_count": 7,
   "metadata": {},
   "outputs": [
    {
     "data": {
      "text/plain": [
       "0    stuning even nongamer sound track beautiful pa...\n",
       "1    best soundtrack ever anything im reading lot r...\n",
       "2    amazing soundtrack favorite music time hands i...\n",
       "3    excellent soundtrack truly like soundtrack enj...\n",
       "4    remember pull jaw floor hearing youve played g...\n",
       "Name: Review, dtype: object"
      ]
     },
     "execution_count": 7,
     "metadata": {},
     "output_type": "execute_result"
    }
   ],
   "source": [
    "from nltk.corpus import stopwords\n",
    "stop = stopwords.words('english')\n",
    "reviews['Review'] = reviews['Review'].apply(lambda x: \" \".join(x for x in str(x).split() if x not in stop))\n",
    "reviews['Review'].head()"
   ]
  },
  {
   "cell_type": "markdown",
   "metadata": {},
   "source": [
    "Lemmatization-Replaces with the correct dictionary base form of a word"
   ]
  },
  {
   "cell_type": "code",
   "execution_count": 8,
   "metadata": {},
   "outputs": [
    {
     "data": {
      "text/plain": [
       "0    stuning even nongamer sound track beautiful pa...\n",
       "1    best soundtrack ever anything im reading lot r...\n",
       "2    amazing soundtrack favorite music time hand in...\n",
       "3    excellent soundtrack truly like soundtrack enj...\n",
       "4    remember pull jaw floor hearing youve played g...\n",
       "Name: Review, dtype: object"
      ]
     },
     "execution_count": 8,
     "metadata": {},
     "output_type": "execute_result"
    }
   ],
   "source": [
    "from textblob import Word\n",
    "reviews['Review'] = reviews['Review'].apply(lambda x: \" \".join([Word(word).lemmatize() for word in str(x).split()]))\n",
    "reviews['Review'].head()"
   ]
  },
  {
   "cell_type": "markdown",
   "metadata": {},
   "source": [
    "## Train test split"
   ]
  },
  {
   "cell_type": "code",
   "execution_count": 9,
   "metadata": {},
   "outputs": [
    {
     "data": {
      "text/plain": [
       "(2246,)"
      ]
     },
     "execution_count": 9,
     "metadata": {},
     "output_type": "execute_result"
    }
   ],
   "source": [
    "train_text, test_text, train_y, test_y = train_test_split(reviews['Review'],reviews['Rating'],test_size = 0.3, random_state=1234)\n",
    "train_text.shape"
   ]
  },
  {
   "cell_type": "markdown",
   "metadata": {},
   "source": [
    "## Classifiers with Tfidf transformations"
   ]
  },
  {
   "cell_type": "markdown",
   "metadata": {},
   "source": [
    " MultinomialNB"
   ]
  },
  {
   "cell_type": "code",
   "execution_count": 10,
   "metadata": {},
   "outputs": [
    {
     "name": "stdout",
     "output_type": "stream",
     "text": [
      "accuracy: 0.7331256490134995\n",
      "confusion Matrix :\n",
      " [[499 236]\n",
      " [ 21 207]]\n"
     ]
    }
   ],
   "source": [
    "text_clf = Pipeline([('vect', TfidfVectorizer()),\n",
    "                     ('tfidf', TfidfTransformer()),\n",
    "                     ('clf_NB', MultinomialNB()),])\n",
    "text_clf = text_clf.fit(train_text, train_y)\n",
    "predicted_NB = text_clf.predict(test_text)\n",
    "probabilities_NB = text_clf.predict_proba(test_text)[:,1]\n",
    "print(\"accuracy:\", metrics.accuracy_score(predicted_NB, test_y))\n",
    "print(\"confusion Matrix :\\n\", metrics.confusion_matrix(predicted_NB, test_y))"
   ]
  },
  {
   "cell_type": "markdown",
   "metadata": {},
   "source": [
    "Logistic Regression"
   ]
  },
  {
   "cell_type": "code",
   "execution_count": 11,
   "metadata": {},
   "outputs": [
    {
     "name": "stdout",
     "output_type": "stream",
     "text": [
      "accuracy: 0.8172377985462098\n",
      "Confusion Matrix:\n",
      " [[484 140]\n",
      " [ 36 303]]\n"
     ]
    }
   ],
   "source": [
    "text_clf = Pipeline([('vect', TfidfVectorizer()),\n",
    "                     ('tfidf', TfidfTransformer()),\n",
    "                     ('clf_LR', linear_model.LogisticRegression()),])\n",
    "text_clf = text_clf.fit(train_text, train_y)\n",
    "predicted_LR = text_clf.predict(test_text)\n",
    "probabilities_LR = text_clf.predict_proba(test_text)[:,1]\n",
    "print(\"accuracy:\", metrics.accuracy_score(predicted_LR, test_y))\n",
    "print(\"Confusion Matrix:\\n\", metrics.confusion_matrix(predicted_LR, test_y))"
   ]
  },
  {
   "cell_type": "markdown",
   "metadata": {},
   "source": [
    "SVM"
   ]
  },
  {
   "cell_type": "code",
   "execution_count": 12,
   "metadata": {},
   "outputs": [
    {
     "name": "stdout",
     "output_type": "stream",
     "text": [
      "accuracy: 0.5399792315680166\n",
      "confusion matrix:\n",
      " [[520 443]\n",
      " [  0   0]]\n"
     ]
    }
   ],
   "source": [
    "text_clf = Pipeline([('vect', TfidfVectorizer()),\n",
    "                     ('tfidf', TfidfTransformer()),\n",
    "                     ('clf_svm', svm.SVC()),])\n",
    "text_clf = text_clf.fit(train_text, train_y)\n",
    "predicted_SVM = text_clf.predict(test_text)\n",
    "print(\"accuracy:\", metrics.accuracy_score(predicted_SVM, test_y))\n",
    "print(\"confusion matrix:\\n\", metrics.confusion_matrix(predicted_SVM, test_y))"
   ]
  },
  {
   "cell_type": "markdown",
   "metadata": {},
   "source": [
    "LinearSVC"
   ]
  },
  {
   "cell_type": "code",
   "execution_count": 13,
   "metadata": {},
   "outputs": [
    {
     "name": "stdout",
     "output_type": "stream",
     "text": [
      "accuracy 0.8245067497403946\n",
      "confusion matrix:\n",
      " [[457 106]\n",
      " [ 63 337]]\n"
     ]
    }
   ],
   "source": [
    "text_clf = Pipeline([('vect', TfidfVectorizer()),\n",
    "                     ('tfidf', TfidfTransformer()),\n",
    "                     ('clf_linearSVC', svm.LinearSVC()),])\n",
    "text_clf = text_clf.fit(train_text, train_y)\n",
    "predicted_LSVC = text_clf.predict(test_text)\n",
    "print(\"accuracy\", metrics.accuracy_score(predicted_LSVC, test_y))\n",
    "print(\"confusion matrix:\\n\", metrics.confusion_matrix(predicted_LSVC, test_y))"
   ]
  },
  {
   "cell_type": "markdown",
   "metadata": {},
   "source": [
    "Random Forest"
   ]
  },
  {
   "cell_type": "code",
   "execution_count": 14,
   "metadata": {},
   "outputs": [
    {
     "name": "stdout",
     "output_type": "stream",
     "text": [
      "accuracy 0.7393561786085151\n",
      "confusion matrix:\n",
      " [[464 195]\n",
      " [ 56 248]]\n"
     ]
    }
   ],
   "source": [
    "text_clf = Pipeline([('vect', TfidfVectorizer()),\n",
    "                     ('tfidf', TfidfTransformer()),\n",
    "                     ('clf_RF', RandomForestClassifier()),])\n",
    "text_clf = text_clf.fit(train_text, train_y)\n",
    "predicted_RF = text_clf.predict(test_text)\n",
    "probabilities_RF = text_clf.predict_proba(test_text)[:,1]\n",
    "print(\"accuracy\", metrics.accuracy_score(predicted_RF, test_y))\n",
    "print(\"confusion matrix:\\n\", metrics.confusion_matrix(predicted_RF, test_y))"
   ]
  },
  {
   "cell_type": "markdown",
   "metadata": {},
   "source": [
    "XGBoost"
   ]
  },
  {
   "cell_type": "code",
   "execution_count": 15,
   "metadata": {},
   "outputs": [
    {
     "name": "stdout",
     "output_type": "stream",
     "text": [
      "accuracy: 0.7902388369678089\n",
      "confusion matrix: \n",
      " [[468 150]\n",
      " [ 52 293]]\n"
     ]
    }
   ],
   "source": [
    "text_clf = Pipeline([('vect', TfidfVectorizer()),\n",
    "                     ('tfidf', TfidfTransformer()),\n",
    "                     ('clf_XG', XGBClassifier()),])\n",
    "text_clf = text_clf.fit(train_text, train_y)\n",
    "predicted_XG = text_clf.predict(test_text)\n",
    "probabilities_XG = text_clf.predict_proba(test_text)[:,1]\n",
    "print(\"accuracy:\", metrics.accuracy_score(predicted_XG, test_y))\n",
    "print(\"confusion matrix: \\n\", metrics.confusion_matrix(predicted_XG, test_y))"
   ]
  },
  {
   "cell_type": "markdown",
   "metadata": {},
   "source": [
    "## Comparing Classifiers using ROC"
   ]
  },
  {
   "cell_type": "code",
   "execution_count": 16,
   "metadata": {},
   "outputs": [],
   "source": [
    "#Calculating TPR, FPR and AUC \n",
    "#NB\n",
    "NB_fpr, NB_tpr, _ = roc_curve(test_y, probabilities_NB, pos_label=2)\n",
    "NB_roc_auc = auc(NB_fpr, NB_tpr)\n",
    "\n",
    "#Logistic Regression\n",
    "LR_fpr, LR_tpr, _ = roc_curve(test_y, probabilities_LR, pos_label=2)\n",
    "LR_roc_auc = auc(LR_fpr, LR_tpr)\n",
    "\n",
    "#SVM\n",
    "SVM_fpr, SVM_tpr, _ = roc_curve(test_y, predicted_SVM, pos_label=2)\n",
    "SVM_roc_auc = auc(SVM_fpr, SVM_tpr)\n",
    "\n",
    "#LinearSVC\n",
    "LSVC_fpr, LSVC_tpr, _ = roc_curve(test_y, predicted_LSVC, pos_label=2)\n",
    "LSVC_roc_auc = auc(LSVC_fpr, LSVC_tpr)\n",
    "\n",
    "#Random Forest\n",
    "RF_fpr, RF_tpr, _ = roc_curve(test_y, probabilities_RF, pos_label=2)\n",
    "RF_roc_auc = auc(RF_fpr, RF_tpr)\n",
    "\n",
    "#XGBoost\n",
    "XG_fpr, XG_tpr, _ = roc_curve(test_y, probabilities_XG, pos_label=2)\n",
    "XG_roc_auc = auc(XG_fpr, XG_tpr)\n"
   ]
  },
  {
   "cell_type": "code",
   "execution_count": 17,
   "metadata": {},
   "outputs": [
    {
     "data": {
      "image/png": "[encoded data removed]",
      "text/plain": [
       "<matplotlib.figure.Figure at 0x1c3d84afdd8>"
      ]
     },
     "metadata": {},
     "output_type": "display_data"
    }
   ],
   "source": [
    "plt.figure(figsize=(15,7))\n",
    "plt.plot(NB_fpr, NB_tpr, color='darkorange',\n",
    "        lw=2, label='Naive Bayes (area = %0.2f)' % NB_roc_auc)\n",
    "plt.plot(LR_fpr, LR_tpr, color='darkgreen',\n",
    "         lw=2, label='Logistic Regression (area = %0.2f)' % LR_roc_auc)\n",
    "plt.plot(SVM_fpr, SVM_tpr, color='darkblue',\n",
    "         lw=2, label='SVM (area = %0.2f)' % SVM_roc_auc)\n",
    "plt.plot(LSVC_fpr, LSVC_tpr, color='black',\n",
    "         lw=2, label='LinearSVC (area = %0.2f)' % LSVC_roc_auc)\n",
    "plt.plot(RF_fpr, RF_tpr, color='yellow',\n",
    "         lw=2, label='Random Forest (area = %0.2f)' % RF_roc_auc)\n",
    "plt.plot(XG_fpr, XG_tpr, color='red',\n",
    "         lw=2, label='XGBoost (area = %0.2f)' % XG_roc_auc)\n",
    "plt.plot([0, 1], [0, 1], color='navy', lw=2, linestyle='--')\n",
    "plt.xlim([0.0, 1.0])\n",
    "plt.ylim([0.0, 1.05])\n",
    "plt.xlabel('False Positive Rate')\n",
    "plt.ylabel('True Positive Rate')\n",
    "plt.title('ROC Curve')\n",
    "plt.legend(loc=\"lower right\")\n",
    "plt.show()"
   ]
  },
  {
   "cell_type": "code",
   "execution_count": null,
   "metadata": {},
   "outputs": [],
   "source": []
  }
 ],
 "metadata": {
  "kernelspec": {
   "display_name": "Python 3",
   "language": "python",
   "name": "python3"
  },
  "language_info": {
   "codemirror_mode": {
    "name": "ipython",
    "version": 3
   },
   "file_extension": ".py",
   "mimetype": "text/x-python",
   "name": "python",
   "nbconvert_exporter": "python",
   "pygments_lexer": "ipython3",
   "version": "3.6.4"
  }
 },
 "nbformat": 4,
 "nbformat_minor": 2
}
